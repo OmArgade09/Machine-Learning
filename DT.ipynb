{
  "nbformat": 4,
  "nbformat_minor": 0,
  "metadata": {
    "colab": {
      "provenance": [],
      "toc_visible": true
    },
    "kernelspec": {
      "name": "python3",
      "display_name": "Python 3"
    },
    "language_info": {
      "name": "python"
    }
  },
  "cells": [
    {
      "cell_type": "code",
      "execution_count": 5,
      "metadata": {
        "colab": {
          "base_uri": "https://localhost:8080/",
          "height": 106
        },
        "id": "kU06pYEjC8Li",
        "outputId": "159c0cd8-fddc-4b36-a5ef-a735ee0f1faa"
      },
      "outputs": [
        {
          "output_type": "error",
          "ename": "SyntaxError",
          "evalue": "invalid syntax (<ipython-input-5-ed7fd2d6645c>, line 42)",
          "traceback": [
            "\u001b[0;36m  File \u001b[0;32m\"<ipython-input-5-ed7fd2d6645c>\"\u001b[0;36m, line \u001b[0;32m42\u001b[0m\n\u001b[0;31m    pip install pydotplus\u001b[0m\n\u001b[0m        ^\u001b[0m\n\u001b[0;31mSyntaxError\u001b[0m\u001b[0;31m:\u001b[0m invalid syntax\n"
          ]
        }
      ],
      "source": [
        "#import packages\n",
        "import numpy as np\n",
        "import matplotlib.pyplot as plt\n",
        "import pandas as pd\n",
        "\n",
        "#reading Dataset\n",
        "dataset=pd.read_csv(\"/DT-Data.csv\")\n",
        "dataset\n",
        "#\n",
        "X=dataset.iloc[:,:-1]\n",
        "y=dataset.iloc[:,-1].values\n",
        "#\n",
        "#Perform Label encoding\n",
        "from sklearn.preprocessing import LabelEncoder\n",
        "labelencoder_X = LabelEncoder()\n",
        "\n",
        "X = X.apply(LabelEncoder().fit_transform)\n",
        "print (X)\n",
        "#\n",
        "from sklearn.tree import DecisionTreeClassifier\n",
        "regressor=DecisionTreeClassifier(ma)\n",
        "regressor.fit(X.iloc[:,1:5],y)\n",
        "\n",
        "#Predict value for the given expression\n",
        "X_in=np.array([0,1,0,1])\n",
        "\n",
        "y_pred=regressor.predict([X_in])\n",
        "print (\"Prediction:\", y_pred)\n",
        "#\n",
        "# Visualize the Decision Tree\n",
        "plt.figure(figsize=(12, 8))  # Adjust figure size as needed\n",
        "plot_tree(\n",
        "    regressor,\n",
        "    filled=True,\n",
        "    rounded=True,\n",
        "    feature_names=X.columns[1:6],\n",
        "    class_names=np.unique(y).astype(str)\n",
        ")\n",
        "plt.title(\"Decision Tree\")\n",
        "plt.show()\n",
        "\n",
        "pip install pydotplus\n"
      ]
    },
    {
      "cell_type": "code",
      "source": [
        "from google.colab import drive\n",
        "drive.mount('/content/drive')"
      ],
      "metadata": {
        "id": "nE28bgAoEIGu"
      },
      "execution_count": null,
      "outputs": []
    },
    {
      "cell_type": "markdown",
      "source": [
        "# New Section"
      ],
      "metadata": {
        "id": "utkIg7z2EXod"
      }
    }
  ]
}